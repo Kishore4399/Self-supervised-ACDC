{
 "cells": [
  {
   "cell_type": "code",
   "execution_count": 22,
   "metadata": {},
   "outputs": [],
   "source": [
    "import matplotlib.pyplot as plt\n",
    "import nibabel as nib\n",
    "import pickle\n",
    "from tqdm import tqdm\n",
    "\n",
    "import shutil\n",
    "import glob\n",
    "import json\n",
    "import os\n",
    "import numpy as np\n",
    "\n",
    "from monai import transforms"
   ]
  },
  {
   "cell_type": "markdown",
   "metadata": {},
   "source": [
    "# Prepare training and testing dataset"
   ]
  },
  {
   "cell_type": "code",
   "execution_count": null,
   "metadata": {},
   "outputs": [],
   "source": [
    "imageTr_paths = sorted(glob.glob(\"G:/gitCode/MGH/data/ACDC/database/training/patient*/patient*_frame\" + ('[0-9]' * 2) + \".nii.gz\"))\n",
    "labelTr_paths = sorted(glob.glob(\"G:/gitCode/MGH/data/ACDC/database/training/patient*/patient*_frame\" + ('[0-9]' * 2) + \"_gt.nii.gz\"))\n",
    "imageTs_paths = sorted(glob.glob(\"G:/gitCode/MGH/data/ACDC/database/testing/patient*/patient*_frame\" + ('[0-9]' * 2) + \".nii.gz\"))\n",
    "labelTs_paths = sorted(glob.glob(\"G:/gitCode/MGH/data/ACDC/database/testing/patient*/patient*_frame\" + ('[0-9]' * 2) + \"_gt.nii.gz\"))\n",
    "infoTr_paths = sorted(glob.glob(\"G:/gitCode/MGH/data/ACDC/database/training/patient*/Info.cfg\"))\n",
    "infoTs_paths = sorted(glob.glob(\"G:/gitCode/MGH/data/ACDC/database/testing/patient*/Info.cfg\"))\n",
    "\n",
    "save_imgTr_dir = \"G:/gitCode/MGH/ACDCTest/dataset/imagesTr\"\n",
    "save_lbTr_dir = \"G:/gitCode/MGH/ACDCTest/dataset/labelsTr\"\n",
    "save_imgTs_dir = \"G:/gitCode/MGH/ACDCTest/dataset/imagesTs\"\n",
    "save_lbTs_dir = \"G:/gitCode/MGH/ACDCTest/dataset/labelsTs\"\n",
    "save_infoTr_dir = \"G:/gitCode/MGH/ACDCTest/dataset/infosTr\"\n",
    "save_infoTs_dir = \"G:/gitCode/MGH/ACDCTest/dataset/infosTs\"\n",
    "\n",
    "for path in imageTr_paths:\n",
    "    save_path = os.path.join(save_imgTr_dir, os.path.split(path)[-1])\n",
    "    shutil.copyfile(path, save_path)\n",
    "\n",
    "for path in imageTs_paths:\n",
    "    save_path = os.path.join(save_imgTs_dir, os.path.split(path)[-1])\n",
    "    shutil.copyfile(path, save_path)\n",
    "\n",
    "for path in labelTr_paths:\n",
    "    save_path = os.path.join(save_lbTr_dir, os.path.split(path)[-1])\n",
    "    shutil.copyfile(path, save_path)\n",
    "\n",
    "for path in labelTs_paths:\n",
    "    save_path = os.path.join(save_lbTs_dir, os.path.split(path)[-1])\n",
    "    shutil.copyfile(path, save_path)\n",
    "\n",
    "for path in infoTr_paths:\n",
    "    \n",
    "    save_path = os.path.join(save_infoTr_dir, '_'.join(os.path.normpath(path).split(os.path.sep)[-2:]))\n",
    "    shutil.copyfile(path, save_path)\n",
    "\n",
    "for path in infoTs_paths:\n",
    "    save_path = os.path.join(save_infoTs_dir, '_'.join(os.path.normpath(path).split(os.path.sep)[-2:]))\n",
    "    shutil.copyfile(path, save_path)"
   ]
  },
  {
   "cell_type": "markdown",
   "metadata": {},
   "source": [
    "# Prepare Datsset Json"
   ]
  },
  {
   "cell_type": "code",
   "execution_count": null,
   "metadata": {},
   "outputs": [],
   "source": [
    "imageTr_paths = sorted(glob.glob(\"G:/gitCode/MGH/ACDCTest/dataset/imagesTr/patient*_frame\" + ('[0-9]' * 2) + \".nii.gz\"))\n",
    "labelTr_paths = sorted(glob.glob(\"G:/gitCode/MGH/ACDCTest/dataset/labelsTr/patient*_frame\" + ('[0-9]' * 2) + \"_gt.nii.gz\"))\n",
    "imageTs_paths = sorted(glob.glob(\"G:/gitCode/MGH/ACDCTest/dataset/imagesTs/patient*_frame\" + ('[0-9]' * 2) + \".nii.gz\"))\n",
    "labelTs_paths = sorted(glob.glob(\"G:/gitCode/MGH/ACDCTest/dataset/labelsTs/patient*_frame\" + ('[0-9]' * 2) + \"_gt.nii.gz\"))\n",
    "infoTr_paths = sorted(glob.glob(\"G:/gitCode/MGH/ACDCTest/dataset/infosTr/patient*_Info.cfg\"))\n",
    "infoTs_paths = sorted(glob.glob(\"G:/gitCode/MGH/ACDCTest/dataset/infosTs/patient*_Info.cfg\"))\n",
    "\n",
    "data_json = {\"description\": \"acdc shihua\",\n",
    "             \"name\": 'acdc',\n",
    "             \"tensorImageSize\": \"3D\",\n",
    "             \"modality\": {\"0\": \"MRI\"},\n",
    "             \"labels\": {\n",
    "                 \"0\": \"background\",\n",
    "                 \"1\": \"RV\",\n",
    "                 \"2\": \"myocardium\",\n",
    "                 \"3\": \"LV\"\n",
    "             },\n",
    "             \"groups\": {\n",
    "                 \"NOR\": 0,\n",
    "                 \"MINF\": 1,\n",
    "                 \"DCM\": 2,\n",
    "                 \"HCM\": 3,\n",
    "                 \"RV\": 4\n",
    "             }}"
   ]
  },
  {
   "cell_type": "code",
   "execution_count": null,
   "metadata": {},
   "outputs": [],
   "source": [
    "import random\n",
    "np.random.seed(42)\n",
    "selectedIDs = sorted([\"patient\" + str(id).zfill(3) for id in np.random.choice(range(1, 101), size=80, replace=False)])\n",
    "selectedIDs"
   ]
  },
  {
   "cell_type": "code",
   "execution_count": null,
   "metadata": {},
   "outputs": [],
   "source": [
    "training = []\n",
    "for img_path, lb_path in zip(imageTr_paths, labelTr_paths):\n",
    "    patient_ID = os.path.split(img_path)[-1].split(\"_\")[0]\n",
    "    if patient_ID in selectedIDs:\n",
    "        path_dic = {}\n",
    "        patient_ID = os.path.split(img_path)[-1].split('_')[0]\n",
    "        path_dic['image'] = '/'.join(os.path.normpath(img_path).split(os.path.sep)[-2:])\n",
    "        path_dic['label'] = '/'.join(os.path.normpath(lb_path).split(os.path.sep)[-2:])\n",
    "        path_dic['info'] = '/'.join([\"infosTr\", patient_ID+\"_Info.cfg\"])\n",
    "        training.append(path_dic)\n",
    "\n",
    "data_json['training'] = training"
   ]
  },
  {
   "cell_type": "code",
   "execution_count": null,
   "metadata": {},
   "outputs": [],
   "source": [
    "validating = []\n",
    "for img_path, lb_path in zip(imageTr_paths, labelTr_paths):\n",
    "    patient_ID = os.path.split(img_path)[-1].split('_')[0]\n",
    "    if patient_ID not in selectedIDs:\n",
    "        path_dic = {}\n",
    "        path_dic['image'] = '/'.join(os.path.normpath(img_path).split(os.path.sep)[-2:])\n",
    "        path_dic['label'] = '/'.join(os.path.normpath(lb_path).split(os.path.sep)[-2:])\n",
    "        path_dic['info'] = '/'.join([\"infosTr\", patient_ID+\"_Info.cfg\"])\n",
    "        validating.append(path_dic)\n",
    "\n",
    "data_json['validating'] = validating"
   ]
  },
  {
   "cell_type": "code",
   "execution_count": null,
   "metadata": {},
   "outputs": [],
   "source": [
    "testing = []\n",
    "for img_path, lb_path in zip(imageTs_paths, labelTs_paths):\n",
    "    path_dic = {}\n",
    "    patient_ID = os.path.split(img_path)[-1].split('_')[0]\n",
    "    path_dic['image'] = '/'.join(os.path.normpath(img_path).split(os.path.sep)[-2:])\n",
    "    path_dic['label'] = '/'.join(os.path.normpath(lb_path).split(os.path.sep)[-2:])\n",
    "    path_dic['info'] = '/'.join([\"infosTs\", patient_ID+\"_Info.cfg\"])\n",
    "    testing.append(path_dic)\n",
    "\n",
    "data_json['testing'] = testing"
   ]
  },
  {
   "cell_type": "code",
   "execution_count": null,
   "metadata": {},
   "outputs": [],
   "source": [
    "\n",
    "with open('G:/gitCode/MGH/ACDCTest/dataset/dataset.json', 'w', encoding='utf-8') as f:\n",
    "    json.dump(data_json, f, ensure_ascii=False, indent=4)"
   ]
  },
  {
   "cell_type": "code",
   "execution_count": null,
   "metadata": {},
   "outputs": [],
   "source": [
    "with open('G:/gitCode/MGH/ACDCTest/dataset/dataset.pkl', 'wb') as file:\n",
    "    pickle.dump(data_json, file)"
   ]
  },
  {
   "cell_type": "markdown",
   "metadata": {},
   "source": [
    "# prepare ED "
   ]
  },
  {
   "cell_type": "code",
   "execution_count": null,
   "metadata": {},
   "outputs": [],
   "source": [
    "all_train_IDs = sorted([\"patient\" + str(id).zfill(3) for id in range(1, 101)])\n",
    "training = []\n",
    "for patient_ID in all_train_IDs:\n",
    "    if patient_ID in selectedIDs:\n",
    "        path_dic = {}\n",
    "        path_dic['info'] = '/'.join([\"infosTr\", patient_ID+\"_Info.cfg\"])\n",
    "\n",
    "        with open(f\"G:/gitCode/MGH/ACDCTest/dataset/infosTr/{patient_ID}_Info.cfg\") as f:\n",
    "                    lines = f.readlines()\n",
    "                    for line in lines:\n",
    "                        \n",
    "                        items = line.strip().split(': ')\n",
    "                        if items[0] == \"ED\":\n",
    "                            path_dic['image'] = f\"imagesTr/{patient_ID}_frame{str(items[1]).zfill(2)}.nii.gz\"\n",
    "                            path_dic['label'] = f\"labelsTr/{patient_ID}_frame{str(items[1]).zfill(2)}_gt.nii.gz\"\n",
    "        training.append(path_dic)\n",
    "    \n",
    "data_json['training'] = training\n",
    "\n",
    "\n",
    "validating = []\n",
    "for patient_ID in all_train_IDs:\n",
    "    if patient_ID not in selectedIDs:\n",
    "        path_dic = {}\n",
    "        path_dic['info'] = '/'.join([\"infosTr\", patient_ID+\"_Info.cfg\"])\n",
    "\n",
    "        with open(f\"G:/gitCode/MGH/ACDCTest/dataset/infosTr/{patient_ID}_Info.cfg\") as f:\n",
    "                    lines = f.readlines()\n",
    "                    for line in lines:\n",
    "                        \n",
    "                        items = line.strip().split(': ')\n",
    "                        if items[0] == \"ED\":\n",
    "                            path_dic['image'] = f\"imagesTr/{patient_ID}_frame{str(items[1]).zfill(2)}.nii.gz\"\n",
    "                            path_dic['label'] = f\"labelsTr/{patient_ID}_frame{str(items[1]).zfill(2)}_gt.nii.gz\"\n",
    "        validating.append(path_dic)\n",
    "    \n",
    "data_json['validating'] = validating\n",
    "\n",
    "\n",
    "all_test_IDs = sorted([\"patient\" + str(id).zfill(3) for id in range(101, 151)])\n",
    "testing = []\n",
    "for patient_ID in all_test_IDs:\n",
    "    path_dic = {}\n",
    "    path_dic['info'] = '/'.join([\"infosTs\", patient_ID+\"_Info.cfg\"])\n",
    "\n",
    "    with open(f\"G:/gitCode/MGH/ACDCTest/dataset/infosTs/{patient_ID}_Info.cfg\") as f:\n",
    "                lines = f.readlines()\n",
    "                for line in lines:\n",
    "                    \n",
    "                    items = line.strip().split(': ')\n",
    "                    if items[0] == \"ED\":\n",
    "                        path_dic['image'] = f\"imagesTs/{patient_ID}_frame{str(items[1]).zfill(2)}.nii.gz\"\n",
    "                        path_dic['label'] = f\"labelsTs/{patient_ID}_frame{str(items[1]).zfill(2)}_gt.nii.gz\"\n",
    "    testing.append(path_dic)\n",
    "    \n",
    "data_json['testing'] = testing\n",
    "\n",
    "with open('G:/gitCode/MGH/ACDCTest/dataset/dataset_ed.pkl', 'wb') as file:\n",
    "    pickle.dump(data_json, file)\n"
   ]
  },
  {
   "cell_type": "markdown",
   "metadata": {},
   "source": [
    "# prepare ES"
   ]
  },
  {
   "cell_type": "code",
   "execution_count": null,
   "metadata": {},
   "outputs": [],
   "source": [
    "all_train_IDs = sorted([\"patient\" + str(id).zfill(3) for id in range(1, 101)])\n",
    "training = []\n",
    "for patient_ID in all_train_IDs:\n",
    "    if patient_ID in selectedIDs:\n",
    "        path_dic = {}\n",
    "        path_dic['info'] = '/'.join([\"infosTr\", patient_ID+\"_Info.cfg\"])\n",
    "\n",
    "        with open(f\"G:/gitCode/MGH/ACDCTest/dataset/infosTr/{patient_ID}_Info.cfg\") as f:\n",
    "                    lines = f.readlines()\n",
    "                    for line in lines:\n",
    "                        \n",
    "                        items = line.strip().split(': ')\n",
    "                        if items[0] == \"ES\":\n",
    "                            path_dic['image'] = f\"imagesTr/{patient_ID}_frame{str(items[1]).zfill(2)}.nii.gz\"\n",
    "                            path_dic['label'] = f\"labelsTr/{patient_ID}_frame{str(items[1]).zfill(2)}_gt.nii.gz\"\n",
    "        training.append(path_dic)\n",
    "    \n",
    "data_json['training'] = training\n",
    "\n",
    "\n",
    "validating = []\n",
    "for patient_ID in all_train_IDs:\n",
    "    if patient_ID not in selectedIDs:\n",
    "        path_dic = {}\n",
    "        path_dic['info'] = '/'.join([\"infosTr\", patient_ID+\"_Info.cfg\"])\n",
    "\n",
    "        with open(f\"G:/gitCode/MGH/ACDCTest/dataset/infosTr/{patient_ID}_Info.cfg\") as f:\n",
    "                    lines = f.readlines()\n",
    "                    for line in lines:\n",
    "                        \n",
    "                        items = line.strip().split(': ')\n",
    "                        if items[0] == \"ES\":\n",
    "                            path_dic['image'] = f\"imagesTr/{patient_ID}_frame{str(items[1]).zfill(2)}.nii.gz\"\n",
    "                            path_dic['label'] = f\"labelsTr/{patient_ID}_frame{str(items[1]).zfill(2)}_gt.nii.gz\"\n",
    "        validating.append(path_dic)\n",
    "    \n",
    "data_json['validating'] = validating\n",
    "\n",
    "\n",
    "all_test_IDs = sorted([\"patient\" + str(id).zfill(3) for id in range(101, 151)])\n",
    "testing = []\n",
    "for patient_ID in all_test_IDs:\n",
    "    path_dic = {}\n",
    "    path_dic['info'] = '/'.join([\"infosTs\", patient_ID+\"_Info.cfg\"])\n",
    "\n",
    "    with open(f\"G:/gitCode/MGH/ACDCTest/dataset/infosTs/{patient_ID}_Info.cfg\") as f:\n",
    "                lines = f.readlines()\n",
    "                for line in lines:\n",
    "                    \n",
    "                    items = line.strip().split(': ')\n",
    "                    if items[0] == \"ES\":\n",
    "                        path_dic['image'] = f\"imagesTs/{patient_ID}_frame{str(items[1]).zfill(2)}.nii.gz\"\n",
    "                        path_dic['label'] = f\"labelsTs/{patient_ID}_frame{str(items[1]).zfill(2)}_gt.nii.gz\"\n",
    "    testing.append(path_dic)\n",
    "    \n",
    "data_json['testing'] = testing\n",
    "\n",
    "with open('G:/gitCode/MGH/ACDCTest/dataset/dataset_es.pkl', 'wb') as file:\n",
    "    pickle.dump(data_json, file)\n"
   ]
  },
  {
   "cell_type": "markdown",
   "metadata": {},
   "source": [
    "# Splite 4D model to 3D"
   ]
  },
  {
   "cell_type": "code",
   "execution_count": 27,
   "metadata": {},
   "outputs": [],
   "source": [
    "data_json = {\"description\": \"acdc shihua\",\n",
    "             \"name\": 'acdc',\n",
    "             \"tensorImageSize\": \"3D\",\n",
    "             \"modality\": {\"0\": \"MRI\"},\n",
    "             \"labels\": {\n",
    "                 \"0\": \"background\",\n",
    "                 \"1\": \"RV\",\n",
    "                 \"2\": \"myocardium\",\n",
    "                 \"3\": \"LV\"\n",
    "             },\n",
    "             \"groups\": {\n",
    "                 \"NOR\": 0,\n",
    "                 \"MINF\": 1,\n",
    "                 \"DCM\": 2,\n",
    "                 \"HCM\": 3,\n",
    "                 \"RV\": 4\n",
    "             }}"
   ]
  },
  {
   "cell_type": "code",
   "execution_count": 28,
   "metadata": {},
   "outputs": [],
   "source": [
    "imageTr_paths = sorted(glob.glob(\"G:/gitCode/MGH/data/ACDC/database/training/*/*4d.nii.gz\"))\n",
    "imageTs_paths = sorted(glob.glob(\"G:/gitCode/MGH/data/ACDC/database/testing/*/*4d.nii.gz\"))\n",
    "infoTr_paths = sorted(glob.glob(\"G:/gitCode/MGH/data/ACDC/database/training/*/Info.cfg\"))\n",
    "infoTs_paths = sorted(glob.glob(\"G:/gitCode/MGH/data/ACDC/database/testing/*/Info.cfg\"))"
   ]
  },
  {
   "cell_type": "code",
   "execution_count": 29,
   "metadata": {},
   "outputs": [
    {
     "data": {
      "text/plain": [
       "['patient001', 'patient004', 'patient005', 'patient006', 'patient007']"
      ]
     },
     "execution_count": 29,
     "metadata": {},
     "output_type": "execute_result"
    }
   ],
   "source": [
    "import random\n",
    "np.random.seed(42)\n",
    "selectedIDs = sorted([\"patient\" + str(id).zfill(3) for id in np.random.choice(range(1, 101), size=80, replace=False)])\n",
    "selectedIDs[0: 5]"
   ]
  },
  {
   "cell_type": "code",
   "execution_count": 30,
   "metadata": {},
   "outputs": [
    {
     "name": "stderr",
     "output_type": "stream",
     "text": [
      "processing data.........: 100%|██████████| 80/80 [02:39<00:00,  1.99s/it]\n"
     ]
    }
   ],
   "source": [
    "training = []\n",
    "\n",
    "main_dir = \"G:/gitCode/MGH/acdcSSL/dataset/mae3d\"\n",
    "dataset_dir = \"imagesTr\"\n",
    "img_save_dir = os.path.join(main_dir, dataset_dir)\n",
    "os.makedirs(img_save_dir, exist_ok=True)\n",
    "\n",
    "with tqdm(total=len(selectedIDs), desc=\"processing data.........\") as pbar:\n",
    "    for img_path in imageTr_paths:\n",
    "        patient_ID = os.path.split(img_path)[-1].split(\"_\")[0]\n",
    "        if patient_ID in selectedIDs:\n",
    "            img = nib.load(img_path)\n",
    "            data = img.get_fdata()\n",
    "            L = data.shape[-1]\n",
    "\n",
    "            info_path = os.path.join(os.path.split(img_path)[0], \"Info.cfg\")\n",
    "            inforDir = {}\n",
    "            with open(info_path, 'r') as file:\n",
    "                for line in file:\n",
    "                    lineList = line.strip().split(\": \")\n",
    "                    inforDir[lineList[0]] = lineList[1]\n",
    "            \n",
    "            for i in range(L):\n",
    "                data3D = data[..., i]\n",
    "                img3D = nib.Nifti1Image(data3D, img.affine)\n",
    "                info = inforDir.copy()\n",
    "                info['image'] = dataset_dir + f\"/{patient_ID}_frame{str(i).zfill(3)}.nii.gz\"\n",
    "                nib.save(img3D, os.path.join(main_dir, info['image']))\n",
    "                training.append(info)\n",
    "            pbar.update(1)\n",
    "data_json['training'] = training"
   ]
  },
  {
   "cell_type": "code",
   "execution_count": 31,
   "metadata": {},
   "outputs": [
    {
     "name": "stderr",
     "output_type": "stream",
     "text": [
      "processing data.........:  25%|██▌       | 20/80 [00:37<01:52,  1.87s/it]\n"
     ]
    }
   ],
   "source": [
    "validating = []\n",
    "\n",
    "main_dir = \"G:/gitCode/MGH/acdcSSL/dataset/mae3d\"\n",
    "dataset_dir = \"imagesVd\"\n",
    "img_save_dir = os.path.join(main_dir, dataset_dir)\n",
    "os.makedirs(img_save_dir, exist_ok=True)\n",
    "\n",
    "with tqdm(total=100-len(selectedIDs), desc=\"processing data.........\") as pbar:\n",
    "    for img_path in imageTr_paths:\n",
    "        patient_ID = os.path.split(img_path)[-1].split(\"_\")[0]\n",
    "        if patient_ID not in selectedIDs:\n",
    "            img = nib.load(img_path)\n",
    "            data = img.get_fdata()\n",
    "            L = data.shape[-1]\n",
    "\n",
    "            info_path = os.path.join(os.path.split(img_path)[0], \"Info.cfg\")\n",
    "            inforDir = {}\n",
    "            with open(info_path, 'r') as file:\n",
    "                for line in file:\n",
    "                    lineList = line.strip().split(\": \")\n",
    "                    inforDir[lineList[0]] = lineList[1]\n",
    "            \n",
    "            for i in range(L):\n",
    "                data3D = data[..., i]\n",
    "                img3D = nib.Nifti1Image(data3D, img.affine)\n",
    "                info = inforDir.copy()\n",
    "                info['image'] = dataset_dir + f\"/{patient_ID}_frame{str(i).zfill(3)}.nii.gz\"\n",
    "                nib.save(img3D, os.path.join(main_dir, info['image']))\n",
    "                validating.append(info)\n",
    "            pbar.update(1)\n",
    "data_json['validating'] = validating"
   ]
  },
  {
   "cell_type": "code",
   "execution_count": 33,
   "metadata": {},
   "outputs": [
    {
     "name": "stderr",
     "output_type": "stream",
     "text": [
      "processing data.........: 100%|██████████| 50/50 [01:40<00:00,  2.01s/it]\n"
     ]
    }
   ],
   "source": [
    "testing = []\n",
    "\n",
    "main_dir = \"G:/gitCode/MGH/acdcSSL/dataset/mae3d\"\n",
    "dataset_dir = \"imagesTs\"\n",
    "img_save_dir = os.path.join(main_dir, dataset_dir)\n",
    "os.makedirs(img_save_dir, exist_ok=True)\n",
    "\n",
    "with tqdm(total=len(imageTs_paths), desc=\"processing data.........\") as pbar:\n",
    "    for img_path in imageTs_paths:\n",
    "        patient_ID = os.path.split(img_path)[-1].split(\"_\")[0]\n",
    "        img = nib.load(img_path)\n",
    "        data = img.get_fdata()\n",
    "        L = data.shape[-1]\n",
    "\n",
    "        info_path = os.path.join(os.path.split(img_path)[0], \"Info.cfg\")\n",
    "        inforDir = {}\n",
    "        with open(info_path, 'r') as file:\n",
    "            for line in file:\n",
    "                lineList = line.strip().split(\": \")\n",
    "                inforDir[lineList[0]] = lineList[1]\n",
    "        \n",
    "        for i in range(L):\n",
    "            data3D = data[..., i]\n",
    "            img3D = nib.Nifti1Image(data3D, img.affine)\n",
    "            info = inforDir.copy()\n",
    "            info['image'] = dataset_dir + f\"/{patient_ID}_frame{str(i).zfill(3)}.nii.gz\"\n",
    "            nib.save(img3D, os.path.join(main_dir, info['image']))\n",
    "            testing.append(info)\n",
    "        pbar.update(1)\n",
    "data_json['testing'] = testing"
   ]
  },
  {
   "cell_type": "code",
   "execution_count": 34,
   "metadata": {},
   "outputs": [],
   "source": [
    "with open('G:/gitCode/MGH/acdcSSL/dataset/mae3d/dataset3d.json', 'w', encoding='utf-8') as f:\n",
    "    json.dump(data_json, f, ensure_ascii=False, indent=4)\n",
    "with open('G:/gitCode/MGH/acdcSSL/dataset/mae3d/dataset3d.pkl', 'wb') as file:\n",
    "    pickle.dump(data_json, file)"
   ]
  },
  {
   "cell_type": "code",
   "execution_count": null,
   "metadata": {},
   "outputs": [],
   "source": []
  }
 ],
 "metadata": {
  "kernelspec": {
   "display_name": "MAE",
   "language": "python",
   "name": "python3"
  },
  "language_info": {
   "codemirror_mode": {
    "name": "ipython",
    "version": 3
   },
   "file_extension": ".py",
   "mimetype": "text/x-python",
   "name": "python",
   "nbconvert_exporter": "python",
   "pygments_lexer": "ipython3",
   "version": "3.8.0"
  }
 },
 "nbformat": 4,
 "nbformat_minor": 2
}
